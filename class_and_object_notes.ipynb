{
 "cells": [
  {
   "cell_type": "markdown",
   "metadata": {
    "collapsed": false
   },
   "source": [
    "## Create a class called ‘Phone’"
   ]
  },
  {
   "cell_type": "code",
   "execution_count": 1,
   "metadata": {
    "collapsed": false
   },
   "outputs": [
   ],
   "source": [
    "class Phone: # class Class-name. Usually, class-name starts with a capital letter.\n",
    "    def make_call(self): # make_call() method prints out “Making a phone call”\n",
    "        print(\"Making phone call\")\n",
    "    def play_game(self): # play_game() method prints out ‘Playing Game’.\n",
    "        print(\"Playing Game\")"
   ]
  },
  {
   "cell_type": "markdown",
   "metadata": {
    "collapsed": false
   },
   "source": [
    "### Create an object of the class 'Phone'"
   ]
  },
  {
   "cell_type": "code",
   "execution_count": 2,
   "metadata": {
    "collapsed": false
   },
   "outputs": [
   ],
   "source": [
    "### Create an object of the class 'Phone'"
   ]
  },
  {
   "cell_type": "code",
   "execution_count": 3,
   "metadata": {
    "collapsed": false
   },
   "outputs": [
    {
     "name": "stdout",
     "output_type": "stream",
     "text": [
      "[-12, 1, 21, 234]\n"
     ]
    }
   ],
   "source": [
    "l = [1, 234, -12, 21]\n",
    "l.sort()\n",
    "print(l)"
   ]
  },
  {
   "cell_type": "code",
   "execution_count": 4,
   "metadata": {
    "collapsed": false
   },
   "outputs": [
    {
     "ename": "NameError",
     "evalue": "name 'p1' is not defined",
     "output_type": "error",
     "traceback": [
      "\u001b[0;31m---------------------------------------------------------------------------\u001b[0m",
      "\u001b[0;31mNameError\u001b[0m                                 Traceback (most recent call last)",
      "\u001b[0;32m/tmp/ipykernel_658414/978572701.py\u001b[0m in \u001b[0;36m<module>\u001b[0;34m\u001b[0m\n\u001b[0;32m----> 1\u001b[0;31m \u001b[0mp1\u001b[0m\u001b[0;34m.\u001b[0m\u001b[0mmake_call\u001b[0m\u001b[0;34m(\u001b[0m\u001b[0;34m)\u001b[0m \u001b[0;31m# NameError: name 'something' is not defined means that is has not been created yet, check the cell above to make sure your variables in the cell above match this cell\u001b[0m\u001b[0;34m\u001b[0m\u001b[0;34m\u001b[0m\u001b[0m\n\u001b[0m",
      "\u001b[0;31mNameError\u001b[0m: name 'p1' is not defined"
     ]
    }
   ],
   "source": [
    "p1.make_call() # NameError: name 'something' is not defined means that is has not been created yet, check the cell above to make sure your variables in the cell above match this cell"
   ]
  },
  {
   "cell_type": "code",
   "execution_count": 5,
   "metadata": {
    "collapsed": false
   },
   "outputs": [
    {
     "ename": "NameError",
     "evalue": "name 'p1' is not defined",
     "output_type": "error",
     "traceback": [
      "\u001b[0;31m---------------------------------------------------------------------------\u001b[0m",
      "\u001b[0;31mNameError\u001b[0m                                 Traceback (most recent call last)",
      "\u001b[0;32m/tmp/ipykernel_658414/752430110.py\u001b[0m in \u001b[0;36m<module>\u001b[0;34m\u001b[0m\n\u001b[0;32m----> 1\u001b[0;31m \u001b[0mp1\u001b[0m\u001b[0;34m.\u001b[0m\u001b[0mplay_game\u001b[0m\u001b[0;34m(\u001b[0m\u001b[0;34m)\u001b[0m\u001b[0;34m\u001b[0m\u001b[0;34m\u001b[0m\u001b[0m\n\u001b[0m",
      "\u001b[0;31mNameError\u001b[0m: name 'p1' is not defined"
     ]
    }
   ],
   "source": [
    "p1.play_game()"
   ]
  },
  {
   "cell_type": "markdown",
   "metadata": {
    "collapsed": false
   },
   "source": [
    "### Add parameters to the methods of our class. We create 6 methods inside the class \"Phone\":\n",
    "\n",
    "* set_color()\n",
    "* set_cost()\n",
    "* show_color()\n",
    "* show_cost()\n",
    "* make_call()\n",
    "* play_game()"
   ]
  },
  {
   "cell_type": "code",
   "execution_count": 24,
   "metadata": {
    "collapsed": false
   },
   "outputs": [
   ],
   "source": [
    "# Inside the Phone class, we are creating 6 methods:\n",
    "\n",
    "class Phone:\n",
    "    # the method set_color() has 2 parameters: self and color\n",
    "    def set_color(self,color):\n",
    "        self.color=color  # set a color to the attribute ‘color’\n",
    "\n",
    "    # the method set_color() has 2 parameters: self and cost\n",
    "    def set_cost(self,cost):\n",
    "        self.cost=cost    # set a cost value to the attribute ‘cost’\n",
    "\n",
    "    def show_color(self):\n",
    "        return self.color # return the color of the phone.\n",
    "\n",
    "    def show_cost(self):\n",
    "        return self.cost  # returning the cost of the phone.\n",
    "\n",
    "    def make_call(self):\n",
    "        print(\"Making phone call\")  # print out: “Making a phone call”.\n",
    "\n",
    "    def play_game(self):\n",
    "        print(\"Playing Game\")       # print out: “Playing Game”."
   ]
  },
  {
   "cell_type": "code",
   "execution_count": 30,
   "metadata": {
    "collapsed": false
   },
   "outputs": [
   ],
   "source": [
    "# creating a new object called as p2\n",
    "p2=Phone()"
   ]
  },
  {
   "cell_type": "code",
   "execution_count": 31,
   "metadata": {
    "collapsed": false
   },
   "outputs": [
   ],
   "source": [
    "# pass the value “blue” to the attribute color (what about the parameter self?)\n",
    "p2.set_color(\"blue\")"
   ]
  },
  {
   "cell_type": "code",
   "execution_count": 32,
   "metadata": {
    "collapsed": false
   },
   "outputs": [
   ],
   "source": [
    "# pass in the value 100 to the attribute cost\n",
    "p2.set_cost(100)"
   ]
  },
  {
   "cell_type": "code",
   "execution_count": 33,
   "metadata": {
    "collapsed": false
   },
   "outputs": [
    {
     "data": {
      "text/plain": [
       "'blue'"
      ]
     },
     "execution_count": 33,
     "metadata": {
     },
     "output_type": "execute_result"
    }
   ],
   "source": [
    "# Since we have assigned the color and cost to the attributes,\n",
    "# we can print out the color of the phone. \n",
    "p2.show_color()"
   ]
  },
  {
   "cell_type": "code",
   "execution_count": 34,
   "metadata": {
    "collapsed": false
   },
   "outputs": [
    {
     "data": {
      "text/plain": [
       "100"
      ]
     },
     "execution_count": 34,
     "metadata": {
     },
     "output_type": "execute_result"
    }
   ],
   "source": [
    "# and we can print out the cost of the phone\n",
    "p2.show_cost()"
   ]
  },
  {
   "cell_type": "code",
   "execution_count": 35,
   "metadata": {
    "collapsed": false
   },
   "outputs": [
    {
     "name": "stdout",
     "output_type": "stream",
     "text": [
      "Making phone call\n"
     ]
    }
   ],
   "source": [
    "p2.make_call()"
   ]
  },
  {
   "cell_type": "code",
   "execution_count": 13,
   "metadata": {
    "collapsed": false
   },
   "outputs": [
    {
     "name": "stdout",
     "output_type": "stream",
     "text": [
      "Playing Game\n"
     ]
    }
   ],
   "source": [
    "p2.play_game()"
   ]
  },
  {
   "cell_type": "code",
   "execution_count": 14,
   "metadata": {
    "collapsed": false
   },
   "outputs": [
   ],
   "source": [
    "class a:\n",
    "    def test(self):\n",
    "        print(\"test\")\n",
    "class b:\n",
    "    def test(self):\n",
    "        print(\"test\")"
   ]
  },
  {
   "cell_type": "code",
   "execution_count": 15,
   "metadata": {
    "collapsed": false
   },
   "outputs": [
    {
     "name": "stdout",
     "output_type": "stream",
     "text": [
      "test\n"
     ]
    }
   ],
   "source": [
    "a1 = a()\n",
    "a1.test()"
   ]
  },
  {
   "cell_type": "code",
   "execution_count": 16,
   "metadata": {
    "collapsed": false
   },
   "outputs": [
    {
     "name": "stdout",
     "output_type": "stream",
     "text": [
      "test\n"
     ]
    }
   ],
   "source": [
    "b1 = b()\n",
    "b1.test()"
   ]
  },
  {
   "cell_type": "markdown",
   "metadata": {
    "collapsed": false
   },
   "source": [
    "### Constructor in Class\n",
    "\n",
    "A constructor is a special type of method inside a class, which allows us to combine methods  set_color() and set_cost().\n",
    "\n",
    "``` def __init__(self, attribute1, attribute2): ``` allows us initialize the attributes of the class\n"
   ]
  },
  {
   "cell_type": "code",
   "execution_count": 17,
   "metadata": {
    "collapsed": false
   },
   "outputs": [
   ],
   "source": [
    "# Inside the Phone class, we are creating 6 methods:\n",
    "\n",
    "class Phone:\n",
    "    def __init__(self,color, cost):\n",
    "        self.color=color  # set a color to the attribute ‘color’\n",
    "        self.cost=cost    # set a cost value to the attribute ‘cost’\n",
    "\n",
    "    def show_color(self):\n",
    "        return self.color # return the color of the phone.\n",
    "\n",
    "    def show_cost(self):\n",
    "        return self.cost  # returning the cost of the phone.\n",
    "\n",
    "    def make_call(self):\n",
    "        print(\"Making phone call\")  # print out: “Making a phone call”.\n",
    "\n",
    "    def play_game(self):\n",
    "        print(\"Playing Game\")       # print out: “Playing Game”.\n",
    "        \n",
    "    "
   ]
  },
  {
   "cell_type": "code",
   "execution_count": 19,
   "metadata": {
    "collapsed": false
   },
   "outputs": [
   ],
   "source": [
    "# creating a new object called as p3\n",
    "p3 = Phone('red', 100)"
   ]
  },
  {
   "cell_type": "code",
   "execution_count": 21,
   "metadata": {
    "collapsed": false
   },
   "outputs": [
    {
     "data": {
      "text/plain": [
       "'red'"
      ]
     },
     "execution_count": 21,
     "metadata": {
     },
     "output_type": "execute_result"
    }
   ],
   "source": [
    "p3.show_color()"
   ]
  },
  {
   "cell_type": "code",
   "execution_count": 22,
   "metadata": {
    "collapsed": false
   },
   "outputs": [
    {
     "ename": "NameError",
     "evalue": "name 'c' is not defined",
     "output_type": "error",
     "traceback": [
      "\u001b[0;31m---------------------------------------------------------------------------\u001b[0m",
      "\u001b[0;31mNameError\u001b[0m                                 Traceback (most recent call last)",
      "\u001b[0;32m/tmp/ipykernel_658414/3235490055.py\u001b[0m in \u001b[0;36m<module>\u001b[0;34m\u001b[0m\n\u001b[0;32m----> 1\u001b[0;31m \u001b[0mc\u001b[0m\u001b[0;34m\u001b[0m\u001b[0;34m\u001b[0m\u001b[0m\n\u001b[0m",
      "\u001b[0;31mNameError\u001b[0m: name 'c' is not defined"
     ]
    }
   ],
   "source": [
    "c # has not been created yet, you must assign something to c such as c = 1"
   ]
  },
  {
   "cell_type": "markdown",
   "metadata": {
    "collapsed": false
   },
   "source": [
    "### Inheritance\n",
    "With inheritance one class can derive the properties of another class.\n",
    "\n",
    "Consider this example: You would have certain features similar to your father and your father would have certain features similar to your grandfather. This is what is known as inheritance. Or in other words, you can also say that, you have inherited some physical traits from your father and your father has inherited some physical traits from your grandfather.\n"
   ]
  },
  {
   "cell_type": "markdown",
   "metadata": {
    "collapsed": false
   },
   "source": [
    "#### Create parent class called as ‘Vehicle’ which has 2 methods:\n",
    "\n",
    "* ```__init__()```\n",
    "* show_details()\n",
    "\n",
    "With the ```__init__()``` method, we are just assigning the values for mileage and cost. Then, with ‘show_details()’, we are printing out the mileage of the vehicle and the cost of the vehicle."
   ]
  },
  {
   "cell_type": "code",
   "execution_count": 0,
   "metadata": {
    "collapsed": false
   },
   "outputs": [
   ],
   "source": [
    "class Vehicle:\n",
    "\n",
    "    def __init__(self,mileage, cost):  # assign the values for mileage and cost.\n",
    "        self.mileage = mileage\n",
    "        self.cost = cost\n",
    "\n",
    "    def show_details(self): # print out the mileage of the vehicle and the cost of the vehicle.\n",
    "        print(\"I am a Vehicle\")\n",
    "        print(\"Mileage of Vehicle is \", self.mileage)\n",
    "        print(\"Cost of Vehicle is \", self.cost)"
   ]
  },
  {
   "cell_type": "code",
   "execution_count": 0,
   "metadata": {
    "collapsed": false
   },
   "outputs": [
   ],
   "source": [
    "v1 = Vehicle(600,500)"
   ]
  },
  {
   "cell_type": "code",
   "execution_count": 0,
   "metadata": {
    "collapsed": false
   },
   "outputs": [
   ],
   "source": [
    "v1.show_details()"
   ]
  },
  {
   "cell_type": "markdown",
   "metadata": {
    "collapsed": false
   },
   "source": [
    "#### create the child class called 'Car'\n",
    "\n",
    "This child class has it’s own method ‘show_Car()’, which just prints out ‘I am car’"
   ]
  },
  {
   "cell_type": "code",
   "execution_count": 0,
   "metadata": {
    "collapsed": false
   },
   "outputs": [
   ],
   "source": [
    "# create the child class Car\n",
    "class Car(Vehicle):  # Vehicle - Parent, and Car -- Child\n",
    "    def show_car(self): \n",
    "        print(\"I am a car\")"
   ]
  },
  {
   "cell_type": "code",
   "execution_count": 1,
   "metadata": {
    "collapsed": false
   },
   "outputs": [
    {
     "ename": "NameError",
     "evalue": "name 'Car' is not defined",
     "output_type": "error",
     "traceback": [
      "\u001b[0;31m---------------------------------------------------------------------------\u001b[0m",
      "\u001b[0;31mNameError\u001b[0m                                 Traceback (most recent call last)",
      "\u001b[0;32m/tmp/ipykernel_660366/1892874995.py\u001b[0m in \u001b[0;36m<module>\u001b[0;34m\u001b[0m\n\u001b[0;32m----> 1\u001b[0;31m \u001b[0mc1\u001b[0m \u001b[0;34m=\u001b[0m \u001b[0mCar\u001b[0m\u001b[0;34m(\u001b[0m\u001b[0;36m200\u001b[0m\u001b[0;34m,\u001b[0m\u001b[0;36m1200\u001b[0m\u001b[0;34m)\u001b[0m \u001b[0;31m# create an object ‘c1’ of the class ‘Car’.\u001b[0m\u001b[0;34m\u001b[0m\u001b[0;34m\u001b[0m\u001b[0m\n\u001b[0m\u001b[1;32m      2\u001b[0m \u001b[0mc1\u001b[0m\u001b[0;34m.\u001b[0m\u001b[0mshow_details\u001b[0m\u001b[0;34m(\u001b[0m\u001b[0;34m)\u001b[0m\u001b[0;34m\u001b[0m\u001b[0;34m\u001b[0m\u001b[0m\n\u001b[1;32m      3\u001b[0m \u001b[0mc1\u001b[0m\u001b[0;34m.\u001b[0m\u001b[0mshow_car\u001b[0m\u001b[0;34m(\u001b[0m\u001b[0;34m)\u001b[0m\u001b[0;34m\u001b[0m\u001b[0;34m\u001b[0m\u001b[0m\n",
      "\u001b[0;31mNameError\u001b[0m: name 'Car' is not defined"
     ]
    }
   ],
   "source": [
    "c1 = Car(200,1200) # create an object ‘c1’ of the class ‘Car’. \n",
    "c1.show_details()\n",
    "c1.show_car()"
   ]
  },
  {
   "cell_type": "markdown",
   "metadata": {
    "collapsed": false
   },
   "source": [
    "### how can we over-ride the `__init__` method during inheritance?"
   ]
  },
  {
   "cell_type": "code",
   "execution_count": 0,
   "metadata": {
    "collapsed": false
   },
   "outputs": [
   ],
   "source": [
    "# create the parent class 'Vehicle' as previous\n",
    "class Vehicle:\n",
    "\n",
    "    def __init__(self,mileage, cost):  # assign the values for mileage and cost.\n",
    "        self.mileage = mileage\n",
    "        self.cost = cost\n",
    "\n",
    "    def show_details(self): # print out the mileage of the vehicle and the cost of the vehicle.\n",
    "        print(\"I am a Vehicle\")\n",
    "        print(\"Mileage of Vehicle is \", self.mileage)\n",
    "        print(\"Cost of Vehicle is \", self.cost)"
   ]
  },
  {
   "cell_type": "code",
   "execution_count": 0,
   "metadata": {
    "collapsed": false
   },
   "outputs": [
   ],
   "source": [
    "class Car(Vehicle):\n",
    "\n",
    "    def __init__(self,mileage,cost,tires,hp): # __init__() method takes in 5 parameters: self,mileage,cost,tyres,hp\n",
    "        super().__init__(mileage,cost)  # using super() method to pass in parameters (mileage and cost) to the parent class's __init__() method\n",
    "        self.tires = tires\n",
    "        self.hp = hp  # horsepower\n",
    "\n",
    "    def show_car_details(self):\n",
    "\n",
    "        print(\"I am a car\")\n",
    "        print(\"Number of tires are \",self.tires)\n",
    "        print(\"Value of horse power is \",self.hp)"
   ]
  },
  {
   "cell_type": "code",
   "execution_count": 0,
   "metadata": {
    "collapsed": false
   },
   "outputs": [
   ],
   "source": [
    "class Car(Vehicle):\n",
    "\n",
    "    def __init__(self,mileage,cost,tires,hp): # __init__() method takes in 5 parameters: self,mileage,cost,tyres,hp\n",
    "        super().__init__(mileage,cost)  # using super() method to pass in parameters (mileage and cost) to the parent class's __init__() method\n",
    "        self.tires = tires\n",
    "        self.hp = hp  # horsepower\n",
    "\n",
    "    def show_car_details(self):\n",
    "\n",
    "        print(\"I am a car\")\n",
    "        print(\"Number of tires are \",self.tires)\n",
    "        print(\"Value of horse power is \",self.hp)"
   ]
  },
  {
   "cell_type": "code",
   "execution_count": 0,
   "metadata": {
    "collapsed": false
   },
   "outputs": [
   ],
   "source": [
    "# create an object with 4 parameters: \n",
    "\n",
    "# 40 for the Mileage of the car\n",
    "# 12000 for the cost of the car\n",
    "# 4 for the number of tires\n",
    "# HP for the value of horsepower of the car\n",
    "\n",
    "c1 = Car(20,12000,4,300)"
   ]
  },
  {
   "cell_type": "code",
   "execution_count": 0,
   "metadata": {
    "collapsed": false
   },
   "outputs": [
   ],
   "source": [
    "# invoke c1.show_details(), which is from the parent class\n",
    "c1.show_details()"
   ]
  },
  {
   "cell_type": "code",
   "execution_count": 0,
   "metadata": {
    "collapsed": false
   },
   "outputs": [
   ],
   "source": [
    "# invoke c1.show_car_details(), which is from the child class.\n",
    "c1.show_car_details()"
   ]
  },
  {
   "cell_type": "markdown",
   "metadata": {
    "collapsed": false
   },
   "source": [
    "### Multiple Inheritance:\n",
    "\n",
    "In multiple inheritance, the child inherits from more than one class. For example, one child, but you have parent1 and parent2"
   ]
  },
  {
   "cell_type": "markdown",
   "metadata": {
    "collapsed": false
   },
   "source": [
    "#### create the first parent class “Parent1”. This parent class has two methods:\n",
    "\n",
    "* assign_string_one() \n",
    "* show_string_one()"
   ]
  },
  {
   "cell_type": "code",
   "execution_count": 0,
   "metadata": {
    "collapsed": false
   },
   "outputs": [
   ],
   "source": [
    "class Parent1(): \n",
    "\n",
    "    def assign_string_one(self,str1): \n",
    "        self.str1 = str1\n",
    "\n",
    "    def show_string_one(self): \n",
    "        return self.str1"
   ]
  },
  {
   "cell_type": "markdown",
   "metadata": {
    "collapsed": false
   },
   "source": [
    "#### create the second parent class: “Parent2”. This class again has two methods:\n",
    "\n",
    "* assign_string_two()\n",
    "* show_string_two()"
   ]
  },
  {
   "cell_type": "code",
   "execution_count": 0,
   "metadata": {
    "collapsed": false
   },
   "outputs": [
   ],
   "source": [
    "class Parent2(): \n",
    "\n",
    "    def assign_string_two(self,str2): \n",
    "        self.str2 = str2\n",
    "\n",
    "    def show_string_two(self): \n",
    "        return self.str2"
   ]
  },
  {
   "cell_type": "markdown",
   "metadata": {
    "collapsed": false
   },
   "source": [
    "#### create their child class: “Derived”. This “Derived” class is inheriting from both “Parent1” and “Parent2”. This “Derived” class again has two methods:\n",
    "\n",
    "* assign_string_three()\n",
    "* show_string_three()"
   ]
  },
  {
   "cell_type": "code",
   "execution_count": 0,
   "metadata": {
    "collapsed": false
   },
   "outputs": [
   ],
   "source": [
    "class Derived(Parent1, Parent2): \n",
    "\n",
    "    def assign_string_three(self,str3): \n",
    "        self.str3=str3\n",
    "\n",
    "    def show_string_three(self): \n",
    "        return self.str3"
   ]
  },
  {
   "cell_type": "code",
   "execution_count": 0,
   "metadata": {
    "collapsed": false
   },
   "outputs": [
   ],
   "source": [
    "# create an object for the “Derived” class\n",
    "d1 = Derived()"
   ]
  },
  {
   "cell_type": "code",
   "execution_count": 0,
   "metadata": {
    "collapsed": false
   },
   "outputs": [
   ],
   "source": [
    "d1.assign_string_one(\"one\")"
   ]
  },
  {
   "cell_type": "code",
   "execution_count": 0,
   "metadata": {
    "collapsed": false
   },
   "outputs": [
   ],
   "source": [
    "d1.assign_string_two(\"two\")"
   ]
  },
  {
   "cell_type": "code",
   "execution_count": 0,
   "metadata": {
    "collapsed": false
   },
   "outputs": [
   ],
   "source": [
    "d1.assign_string_three(\"three\")"
   ]
  },
  {
   "cell_type": "markdown",
   "metadata": {
    "collapsed": false
   },
   "source": [
    "### In multilevel Inheritance, we have parent-child-grandchild relationship."
   ]
  },
  {
   "cell_type": "markdown",
   "metadata": {
    "collapsed": false
   },
   "source": [
    "### create first class “Parent”. This class has two methods:\n",
    "\n",
    "* assign_name()\n",
    "* show_name()"
   ]
  },
  {
   "cell_type": "code",
   "execution_count": 0,
   "metadata": {
    "collapsed": false
   },
   "outputs": [
   ],
   "source": [
    "class Parent(): \n",
    "    def assign_name(self,name): \n",
    "        self.name = name\n",
    "\n",
    "    def show_name(self): \n",
    "        return self.name"
   ]
  },
  {
   "cell_type": "markdown",
   "metadata": {
    "collapsed": false
   },
   "source": [
    "#### Create the “Child” class which is inheriting from the “Parent” class. This child class again has two methods:\n",
    "\n",
    "* assign_age()\n",
    "* show_age()"
   ]
  },
  {
   "cell_type": "code",
   "execution_count": 0,
   "metadata": {
    "collapsed": false
   },
   "outputs": [
   ],
   "source": [
    "class Child(Parent): \n",
    "\n",
    "    def assign_age(self,age): \n",
    "        self.age = age\n",
    "\n",
    "    def show_age(self): \n",
    "        return self.age"
   ]
  },
  {
   "cell_type": "markdown",
   "metadata": {
    "collapsed": false
   },
   "source": [
    "#### Create the “GrandChild” class which is inheriting from the “Child” class. Inside this GrandChild class we have two methods:\n",
    "\n",
    "* assign_gender()\n",
    "* show_gender()"
   ]
  },
  {
   "cell_type": "code",
   "execution_count": 0,
   "metadata": {
    "collapsed": false
   },
   "outputs": [
   ],
   "source": [
    "class GrandChild(Child): \n",
    "\n",
    "    def assign_gender(self,gender): \n",
    "        self.gender = gender\n",
    "\n",
    "    def show_gender(self): \n",
    "        return self.name"
   ]
  },
  {
   "cell_type": "code",
   "execution_count": 0,
   "metadata": {
    "collapsed": false
   },
   "outputs": [
   ],
   "source": [
    "# create an object for the GrandChild class:\n",
    "g1 = GrandChild()"
   ]
  },
  {
   "cell_type": "code",
   "execution_count": 0,
   "metadata": {
    "collapsed": false
   },
   "outputs": [
   ],
   "source": [
    "g1.assign_name(\"Sam\")"
   ]
  },
  {
   "cell_type": "code",
   "execution_count": 0,
   "metadata": {
    "collapsed": false
   },
   "outputs": [
   ],
   "source": [
    "g1.assign_age(25)"
   ]
  },
  {
   "cell_type": "code",
   "execution_count": 0,
   "metadata": {
    "collapsed": false
   },
   "outputs": [
   ],
   "source": [
    "g1.assign_gender(\"Male\")"
   ]
  },
  {
   "cell_type": "code",
   "execution_count": 0,
   "metadata": {
    "collapsed": false
   },
   "outputs": [
   ],
   "source": [
   ]
  }
 ],
 "metadata": {
  "kernelspec": {
   "display_name": "Python 3 (Ubuntu Linux)",
   "language": "python",
   "name": "python3-ubuntu",
   "resource_dir": "/usr/local/share/jupyter/kernels/python3-ubuntu"
  },
  "language_info": {
   "codemirror_mode": {
    "name": "ipython",
    "version": 3
   },
   "file_extension": ".py",
   "mimetype": "text/x-python",
   "name": "python",
   "nbconvert_exporter": "python",
   "pygments_lexer": "ipython3",
   "version": "3.8.5"
  }
 },
 "nbformat": 4,
 "nbformat_minor": 4
}