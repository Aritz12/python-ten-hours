{
 "cells": [
  {
   "cell_type": "markdown",
   "metadata": {
    "collapsed": false
   },
   "source": [
    "# 1st Notebook in Python Ten Hours\n",
    "- Author: Aritz\n",
    "- Date: 1/6/2022\n",
    "- Description: Learning"
   ]
  },
  {
   "cell_type": "code",
   "execution_count": 0,
   "metadata": {
    "collapsed": false
   },
   "outputs": [
   ],
   "source": [
    "git status\n",
    "git add(folder or file name of what you want to add)\n",
    "git status\n",
    "git commit -m \"put note about why you are saving\"\n",
    "git push # save to your respository\n",
    "# for file names with spaces put in quotes: git add \"python ten hours.ipynb\""
   ]
  },
  {
   "cell_type": "code",
   "execution_count": 0,
   "metadata": {
    "collapsed": false
   },
   "outputs": [
   ],
   "source": [
    "git config --global user.email \"github email\"\n",
    "git config --global user.name \"github username\""
   ]
  },
  {
   "cell_type": "code",
   "execution_count": 0,
   "metadata": {
    "collapsed": false
   },
   "outputs": [
   ],
   "source": [
    "# we added more code and want to save"
   ]
  }
 ],
 "metadata": {
  "kernelspec": {
   "display_name": "Python 3 (Ubuntu Linux)",
   "language": "python",
   "name": "python3-ubuntu",
   "resource_dir": "/usr/local/share/jupyter/kernels/python3-ubuntu"
  }
 },
 "nbformat": 4,
 "nbformat_minor": 4
}