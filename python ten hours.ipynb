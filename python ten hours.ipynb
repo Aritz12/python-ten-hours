{
 "cells": [
  {
   "cell_type": "markdown",
   "metadata": {
    "collapsed": false
   },
   "source": [
    "# 1st Notebook in Python Ten Hours\n",
    "- Author: Aritz\n",
    "- Date: 1/6/2022\n",
    "- Description: Learning"
   ]
  },
  {
   "cell_type": "code",
   "execution_count": 0,
   "metadata": {
    "collapsed": false
   },
   "outputs": [
   ],
   "source": [
    "git status\n",
    "git add(folder or file name of what you want to add)\n",
    "\n",
    "# for file names with spaces put in quotes: "
   ]
  }
 ],
 "metadata": {
  "kernelspec": {
   "display_name": "Python 3 (Ubuntu Linux)",
   "language": "python",
   "name": "python3-ubuntu",
   "resource_dir": "/usr/local/share/jupyter/kernels/python3-ubuntu"
  }
 },
 "nbformat": 4,
 "nbformat_minor": 4
}