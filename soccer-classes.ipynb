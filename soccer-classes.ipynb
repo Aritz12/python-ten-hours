{
 "cells": [
  {
   "cell_type": "markdown",
   "metadata": {
    "collapsed": false
   },
   "source": [
    "Soccer Team Class"
   ]
  },
  {
   "cell_type": "code",
   "execution_count": 0,
   "metadata": {
    "collapsed": false
   },
   "outputs": [
   ],
   "source": [
    "class Sports():\n",
    "    pass\n",
    "\n",
    "class Soccer(Sports):\n",
    "    pass\n",
    "\n",
    "class Team(Soccer):\n",
    "    pass\n",
    "\n",
    "class Players(Team):\n",
    "    #sets the color of their uniform\n",
    "    def set_color(self,color):\n",
    "        self.color=color\n",
    "        pass\n",
    "    \n",
    "class Forward(Players):\n",
    "    def shoot_ball(self):\n",
    "        print ('shoot ball')\n",
    "    def chase_ball(self):\n",
    "        print ('chase ball')\n",
    "        \n",
    "class Midfielders(Players):\n",
    "    def defend(self):\n",
    "        print ('defend')\n",
    "    def attack(self):\n",
    "        print ('attack')\n",
    "    def pass_ball(self):\n",
    "        print ('pass the soccer ball')\n",
    "        \n",
    "class Defenders(Players):\n",
    "    def defend(self):\n",
    "        print ('defend')\n",
    "    def slide_tackle(self):\n",
    "        print ('slide tackle')\n",
    "    def kick_the_ball_far(self):\n",
    "        print ('kick the ball far and high')\n",
    "        \n",
    "class Goalies(Players):\n",
    "    def goal_kick(self):\n",
    "        print ('kick the ball far and high')\n",
    "    def make_save(self):\n",
    "        print ('dive for the ball and catch it')\n",
    "        \n",
    "        \n"
   ]
  }
 ],
 "metadata": {
  "kernelspec": {
   "display_name": "Python 3 (Ubuntu Linux)",
   "language": "python",
   "name": "python3-ubuntu",
   "resource_dir": "/usr/local/share/jupyter/kernels/python3-ubuntu"
  }
 },
 "nbformat": 4,
 "nbformat_minor": 4
}